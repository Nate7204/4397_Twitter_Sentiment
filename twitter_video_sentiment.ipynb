{
 "cells": [
  {
   "cell_type": "markdown",
   "id": "114d9e27",
   "metadata": {},
   "source": [
    "# Twitter Video Sentiment Analysis Tool\n",
    "This tool performs sentiment analysis on Twitter videos to determine the polarity of users' responses to given topics. More specifically, the program detects & analyzes facial expressions in videos and assigns scores according to several classes of emotions.  \n",
    "\n",
    "**Parameters:**  \n",
    "- `search_terms`: A list of terms to search through, gather videos from, and report scores on.  \n",
    "\n",
    "**Output:**  \n",
    "- `results`: A list of dataframes containing the average distribution of emotions for each search term. "
   ]
  },
  {
   "cell_type": "code",
   "execution_count": 7,
   "id": "ff7b6d85",
   "metadata": {},
   "outputs": [],
   "source": [
    "import snscrape.modules.twitter as snt\n",
    "import urllib.request\n",
    "import pandas as pd\n",
    "import numpy as np\n",
    "from fer import FER\n",
    "from fer import Video\n",
    "import os\n",
    "\n",
    "# Twitter search terms can be hashtags or words/phrases\n",
    "search_terms = ['#COVIDBooster', 'COVID booster']"
   ]
  },
  {
   "cell_type": "code",
   "execution_count": 8,
   "id": "5e141832",
   "metadata": {},
   "outputs": [],
   "source": [
    "# Returns a list of video links given a search term\n",
    "def get_videos(search_term):\n",
    "    videos = []\n",
    "    vid_count = 0\n",
    "    for tweet in snt.TwitterSearchScraper(search_term).get_items():\n",
    "        ### FOR DEMONSTRATION PURPOSES, WE WILL LIMIT THE INPUT LIST TO 5 VIDEOS PER SEARCH TERM ###\n",
    "        if vid_count >= 5: return videos\n",
    "        if tweet.media:\n",
    "            for medium in tweet.media:\n",
    "                if isinstance(medium, snt.Video) and \".mp4\" in medium.variants[0].url and medium.variants[0].url not in videos:\n",
    "                    videos.append(medium.variants[0].url)\n",
    "                    vid_count += 1\n",
    "    return videos"
   ]
  },
  {
   "cell_type": "code",
   "execution_count": 9,
   "id": "10a48daf",
   "metadata": {},
   "outputs": [],
   "source": [
    "# Runs facial emotion recognition on a video and returns emotion scores\n",
    "def get_scores(video_path):\n",
    "    face_detector = FER()\n",
    "    input_video = Video(video_path)\n",
    "\n",
    "    # Analyze video, store results in dataframe\n",
    "    processing_data = input_video.analyze(face_detector, save_frames=False, save_video=False, annotate_frames=False)\n",
    "    vid_df = input_video.to_pandas(processing_data)\n",
    "    vid_df = input_video.get_first_face(vid_df)\n",
    "    vid_df = input_video.get_emotions(vid_df)\n",
    "\n",
    "    # Categorize emotion scores\n",
    "    angry = sum(vid_df.angry)\n",
    "    disgust = sum(vid_df.disgust)\n",
    "    fear = sum(vid_df.fear)\n",
    "    happy = sum(vid_df.happy)\n",
    "    sad = sum(vid_df.sad)\n",
    "    surprise = sum(vid_df.surprise)\n",
    "    neutral = sum(vid_df.neutral)\n",
    "    emotion_values = np.array([angry, disgust, fear, happy, sad, surprise, neutral])\n",
    "    \n",
    "    return emotion_values"
   ]
  },
  {
   "cell_type": "code",
   "execution_count": 10,
   "id": "75060ca7",
   "metadata": {},
   "outputs": [],
   "source": [
    "# Finds the average emotion scores for a search term\n",
    "def avg_scores(search_term):\n",
    "    video_path = \"input_video.mp4\"\n",
    "    print(f'Getting videos for \"{search_term}\"...')\n",
    "    videos = get_videos(search_term)\n",
    "    scores = np.zeros(7)\n",
    "    \n",
    "    for i, url in enumerate(videos):\n",
    "        try:\n",
    "            # Download video for analysis purposes\n",
    "            urllib.request.urlretrieve(url, video_path)\n",
    "            \n",
    "            # Update average scores\n",
    "            print(f\"Calculating scores for video {i+1}/{len(videos)}\")\n",
    "            scores = np.average([scores, get_scores(video_path)], axis=0)\n",
    "        except Exception as e:\n",
    "            print(e)\n",
    "        finally:\n",
    "            # Cleanup\n",
    "            if os.path.exists(video_path):\n",
    "                os.remove(video_path) \n",
    "            if os.path.exists(\"data.csv\"):\n",
    "                os.remove(\"data.csv\")\n",
    "            if os.path.exists(\"output\"):\n",
    "                os.rmdir(\"output\")\n",
    "            continue\n",
    "            \n",
    "    return scores"
   ]
  },
  {
   "cell_type": "code",
   "execution_count": 11,
   "id": "9acfaf48",
   "metadata": {},
   "outputs": [
    {
     "name": "stdout",
     "output_type": "stream",
     "text": [
      "Getting videos for \"#COVIDBooster\"...\n",
      "Calculating scores for video 1/5\n",
      "29-11-2021:02:16:38,324 INFO     [classes.py:199] 25.00 fps, 250 frames, 10.00 seconds\n"
     ]
    },
    {
     "name": "stderr",
     "output_type": "stream",
     "text": [
      "100%|██████████| 250/250 [00:20<00:00, 12.17frames/s]\n"
     ]
    },
    {
     "name": "stdout",
     "output_type": "stream",
     "text": [
      "Calculating scores for video 2/5\n",
      "29-11-2021:02:17:00,9 INFO     [classes.py:199] 29.97 fps, 1364 frames, 45.51 seconds\n"
     ]
    },
    {
     "name": "stderr",
     "output_type": "stream",
     "text": [
      "100%|██████████| 1364/1364 [00:27<00:00, 49.41frames/s]\n"
     ]
    },
    {
     "name": "stdout",
     "output_type": "stream",
     "text": [
      "Calculating scores for video 3/5\n",
      "29-11-2021:02:17:28,478 INFO     [classes.py:199] 30.00 fps, 286 frames, 9.53 seconds\n"
     ]
    },
    {
     "name": "stderr",
     "output_type": "stream",
     "text": [
      "100%|██████████| 286/286 [00:26<00:00, 10.70frames/s]\n"
     ]
    },
    {
     "name": "stdout",
     "output_type": "stream",
     "text": [
      "Calculating scores for video 4/5\n",
      "29-11-2021:02:17:55,912 INFO     [classes.py:199] 25.00 fps, 339 frames, 13.56 seconds\n"
     ]
    },
    {
     "name": "stderr",
     "output_type": "stream",
     "text": [
      "100%|██████████| 339/339 [00:17<00:00, 18.95frames/s]\n"
     ]
    },
    {
     "name": "stdout",
     "output_type": "stream",
     "text": [
      "Calculating scores for video 5/5\n",
      "29-11-2021:02:18:14,527 INFO     [classes.py:199] 25.00 fps, 375 frames, 15.00 seconds\n"
     ]
    },
    {
     "name": "stderr",
     "output_type": "stream",
     "text": [
      "100%|██████████| 375/375 [00:45<00:00,  8.18frames/s]\n"
     ]
    },
    {
     "name": "stdout",
     "output_type": "stream",
     "text": [
      "Getting videos for \"COVID booster\"...\n",
      "Calculating scores for video 1/5\n",
      "29-11-2021:02:19:13,702 INFO     [classes.py:199] 25.00 fps, 1019 frames, 40.76 seconds\n"
     ]
    },
    {
     "name": "stderr",
     "output_type": "stream",
     "text": [
      "100%|██████████| 1019/1019 [01:37<00:00, 10.46frames/s]\n"
     ]
    },
    {
     "name": "stdout",
     "output_type": "stream",
     "text": [
      "Calculating scores for video 2/5\n",
      "29-11-2021:02:20:52,218 INFO     [classes.py:199] 24.00 fps, 3308 frames, 137.83 seconds\n"
     ]
    },
    {
     "name": "stderr",
     "output_type": "stream",
     "text": [
      "100%|██████████| 3308/3308 [06:41<00:00,  8.24frames/s]\n"
     ]
    },
    {
     "name": "stdout",
     "output_type": "stream",
     "text": [
      "Calculating scores for video 3/5\n",
      "29-11-2021:02:27:34,840 INFO     [classes.py:199] 24.00 fps, 3308 frames, 137.83 seconds\n"
     ]
    },
    {
     "name": "stderr",
     "output_type": "stream",
     "text": [
      "100%|██████████| 3308/3308 [06:39<00:00,  8.28frames/s]\n"
     ]
    },
    {
     "name": "stdout",
     "output_type": "stream",
     "text": [
      "Calculating scores for video 4/5\n",
      "29-11-2021:02:34:15,382 INFO     [classes.py:199] 29.97 fps, 1348 frames, 44.98 seconds\n"
     ]
    },
    {
     "name": "stderr",
     "output_type": "stream",
     "text": [
      "100%|██████████| 1348/1348 [00:58<00:00, 23.08frames/s]\n"
     ]
    },
    {
     "name": "stdout",
     "output_type": "stream",
     "text": [
      "Calculating scores for video 5/5\n",
      "29-11-2021:02:35:15,73 INFO     [classes.py:199] 34.39 fps, 4213 frames, 122.49 seconds\n"
     ]
    },
    {
     "name": "stderr",
     "output_type": "stream",
     "text": [
      "100%|██████████| 4213/4213 [10:03<00:00,  6.98frames/s]\n"
     ]
    }
   ],
   "source": [
    "emotions = ['Angry', 'Disgust', 'Fear', 'Happy', 'Sad', 'Surprise', 'Neutral']\n",
    "results = []\n",
    "\n",
    "# Display the average scores per search term as percentages\n",
    "for term in search_terms:\n",
    "    # Determine order in which to display emotions\n",
    "    scores = avg_scores(term)\n",
    "    emotion_order = [emotion for value, emotion in sorted(zip(scores, emotions), reverse=True)]\n",
    "    \n",
    "    # Convert scores to percentages\n",
    "    total = sum(scores)\n",
    "    scores = sorted([value / total * 100 for value in scores], reverse=True)\n",
    "    \n",
    "    # Display results in a dataframe\n",
    "    result = pd.DataFrame(emotion_order, columns = ['Emotion'])\n",
    "    result[f\"Prevalence in {term}\"] = [f'{num:.3g}' + '%' for num in scores]\n",
    "    results.append(result)"
   ]
  },
  {
   "cell_type": "code",
   "execution_count": 12,
   "id": "74aa1675",
   "metadata": {},
   "outputs": [
    {
     "data": {
      "text/html": [
       "<div>\n",
       "<style scoped>\n",
       "    .dataframe tbody tr th:only-of-type {\n",
       "        vertical-align: middle;\n",
       "    }\n",
       "\n",
       "    .dataframe tbody tr th {\n",
       "        vertical-align: top;\n",
       "    }\n",
       "\n",
       "    .dataframe thead th {\n",
       "        text-align: right;\n",
       "    }\n",
       "</style>\n",
       "<table border=\"1\" class=\"dataframe\">\n",
       "  <thead>\n",
       "    <tr style=\"text-align: right;\">\n",
       "      <th></th>\n",
       "      <th>Emotion</th>\n",
       "      <th>Prevalence in #COVIDBooster</th>\n",
       "    </tr>\n",
       "  </thead>\n",
       "  <tbody>\n",
       "    <tr>\n",
       "      <th>0</th>\n",
       "      <td>Fear</td>\n",
       "      <td>33.6%</td>\n",
       "    </tr>\n",
       "    <tr>\n",
       "      <th>1</th>\n",
       "      <td>Sad</td>\n",
       "      <td>22.3%</td>\n",
       "    </tr>\n",
       "    <tr>\n",
       "      <th>2</th>\n",
       "      <td>Angry</td>\n",
       "      <td>19%</td>\n",
       "    </tr>\n",
       "    <tr>\n",
       "      <th>3</th>\n",
       "      <td>Neutral</td>\n",
       "      <td>16%</td>\n",
       "    </tr>\n",
       "    <tr>\n",
       "      <th>4</th>\n",
       "      <td>Happy</td>\n",
       "      <td>6.7%</td>\n",
       "    </tr>\n",
       "    <tr>\n",
       "      <th>5</th>\n",
       "      <td>Surprise</td>\n",
       "      <td>2%</td>\n",
       "    </tr>\n",
       "    <tr>\n",
       "      <th>6</th>\n",
       "      <td>Disgust</td>\n",
       "      <td>0.336%</td>\n",
       "    </tr>\n",
       "  </tbody>\n",
       "</table>\n",
       "</div>"
      ],
      "text/plain": [
       "    Emotion Prevalence in #COVIDBooster\n",
       "0      Fear                       33.6%\n",
       "1       Sad                       22.3%\n",
       "2     Angry                         19%\n",
       "3   Neutral                         16%\n",
       "4     Happy                        6.7%\n",
       "5  Surprise                          2%\n",
       "6   Disgust                      0.336%"
      ]
     },
     "metadata": {},
     "output_type": "display_data"
    },
    {
     "data": {
      "text/html": [
       "<div>\n",
       "<style scoped>\n",
       "    .dataframe tbody tr th:only-of-type {\n",
       "        vertical-align: middle;\n",
       "    }\n",
       "\n",
       "    .dataframe tbody tr th {\n",
       "        vertical-align: top;\n",
       "    }\n",
       "\n",
       "    .dataframe thead th {\n",
       "        text-align: right;\n",
       "    }\n",
       "</style>\n",
       "<table border=\"1\" class=\"dataframe\">\n",
       "  <thead>\n",
       "    <tr style=\"text-align: right;\">\n",
       "      <th></th>\n",
       "      <th>Emotion</th>\n",
       "      <th>Prevalence in COVID booster</th>\n",
       "    </tr>\n",
       "  </thead>\n",
       "  <tbody>\n",
       "    <tr>\n",
       "      <th>0</th>\n",
       "      <td>Angry</td>\n",
       "      <td>26.6%</td>\n",
       "    </tr>\n",
       "    <tr>\n",
       "      <th>1</th>\n",
       "      <td>Neutral</td>\n",
       "      <td>21.9%</td>\n",
       "    </tr>\n",
       "    <tr>\n",
       "      <th>2</th>\n",
       "      <td>Fear</td>\n",
       "      <td>17%</td>\n",
       "    </tr>\n",
       "    <tr>\n",
       "      <th>3</th>\n",
       "      <td>Sad</td>\n",
       "      <td>16.6%</td>\n",
       "    </tr>\n",
       "    <tr>\n",
       "      <th>4</th>\n",
       "      <td>Happy</td>\n",
       "      <td>13.4%</td>\n",
       "    </tr>\n",
       "    <tr>\n",
       "      <th>5</th>\n",
       "      <td>Surprise</td>\n",
       "      <td>3.44%</td>\n",
       "    </tr>\n",
       "    <tr>\n",
       "      <th>6</th>\n",
       "      <td>Disgust</td>\n",
       "      <td>1.06%</td>\n",
       "    </tr>\n",
       "  </tbody>\n",
       "</table>\n",
       "</div>"
      ],
      "text/plain": [
       "    Emotion Prevalence in COVID booster\n",
       "0     Angry                       26.6%\n",
       "1   Neutral                       21.9%\n",
       "2      Fear                         17%\n",
       "3       Sad                       16.6%\n",
       "4     Happy                       13.4%\n",
       "5  Surprise                       3.44%\n",
       "6   Disgust                       1.06%"
      ]
     },
     "metadata": {},
     "output_type": "display_data"
    }
   ],
   "source": [
    "# Display the resulting score percentages for each search term\n",
    "for result in results:\n",
    "    display(result)"
   ]
  }
 ],
 "metadata": {
  "kernelspec": {
   "display_name": "Python 3 (ipykernel)",
   "language": "python",
   "name": "python3"
  },
  "language_info": {
   "codemirror_mode": {
    "name": "ipython",
    "version": 3
   },
   "file_extension": ".py",
   "mimetype": "text/x-python",
   "name": "python",
   "nbconvert_exporter": "python",
   "pygments_lexer": "ipython3",
   "version": "3.8.12"
  }
 },
 "nbformat": 4,
 "nbformat_minor": 5
}
